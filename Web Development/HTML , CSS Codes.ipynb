{
 "cells": [
  {
   "cell_type": "code",
   "execution_count": null,
   "metadata": {
    "vscode": {
     "languageId": "html"
    }
   },
   "outputs": [],
   "source": [
    "Gradients Code \n",
    "\n",
    " background: #0F2027;  \n",
    " background: -webkit-linear-gradient(to right, #2C5364, #203A43, #0F2027); \n",
    "  background: linear-gradient(to right, #2C5364, #203A43, #0F2027); \n",
    "  \n",
    "                    \n",
    " border style Codes :\n",
    "\n",
    "border : solid black ;\n",
    "border : dashed black ;\n",
    "border : dotted black ;\n",
    "border : double border black ;\n",
    "border-width : thin;\n",
    "border-width : medium;\n",
    "border-width : thick;\n"
   ]
  }
 ],
 "metadata": {
  "language_info": {
   "name": "python"
  },
  "orig_nbformat": 4
 },
 "nbformat": 4,
 "nbformat_minor": 2
}
